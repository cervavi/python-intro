{
 "cells": [
  {
   "cell_type": "markdown",
   "metadata": {},
   "source": [
    "## **Fast Food Pt. 3**"
   ]
  },
  {
   "cell_type": "markdown",
   "metadata": {},
   "source": [
    "##### Victoria Cervantes \n",
    "##### 3/13/2021"
   ]
  },
  {
   "cell_type": "markdown",
   "metadata": {},
   "source": [
    "### **Report**\n",
    "\n",
    "#### *Problem:* \n",
    "**Aim:** \n",
    "To determine the extent the type, breakfast option availability and location affect the total number of units (franchise and company) of chain restaurants. \n",
    "\n",
    "**Question 1:** \n",
    "What type of chain restuarant returns the most sales?\n",
    "\n",
    "**Question 2:** \n",
    "On average, which general location has the largest return of sales?\n",
    "\n",
    "**Question 3:** \n",
    "Which type of restaurant has the largest mean of total units?"
   ]
  },
  {
   "cell_type": "markdown",
   "metadata": {},
   "source": [
    "### **Data:**"
   ]
  },
  {
   "cell_type": "code",
   "execution_count": null,
   "metadata": {},
   "outputs": [],
   "source": [
    "import pandas as pd\n",
    "import StatTests as st\n",
    "import numpy as np\n",
    "import matplotlib.pyplot as plt\n",
    "from statsmodels.formula.api import ols\n",
    "\n",
    "data1 = pd.read_csv('pt1.csv')\n",
    "data1.head()"
   ]
  },
  {
   "cell_type": "code",
   "execution_count": 59,
   "metadata": {},
   "outputs": [
    {
     "data": {
      "text/html": [
       "<div>\n",
       "<style scoped>\n",
       "    .dataframe tbody tr th:only-of-type {\n",
       "        vertical-align: middle;\n",
       "    }\n",
       "\n",
       "    .dataframe tbody tr th {\n",
       "        vertical-align: top;\n",
       "    }\n",
       "\n",
       "    .dataframe thead th {\n",
       "        text-align: right;\n",
       "    }\n",
       "</style>\n",
       "<table border=\"1\" class=\"dataframe\">\n",
       "  <thead>\n",
       "    <tr style=\"text-align: right;\">\n",
       "      <th></th>\n",
       "      <th>Name</th>\n",
       "      <th>Breakfast</th>\n",
       "      <th>Location</th>\n",
       "      <th>Type</th>\n",
       "    </tr>\n",
       "  </thead>\n",
       "  <tbody>\n",
       "    <tr>\n",
       "      <th>0</th>\n",
       "      <td>McDonalds</td>\n",
       "      <td>Y</td>\n",
       "      <td>All</td>\n",
       "      <td>Fast Food</td>\n",
       "    </tr>\n",
       "    <tr>\n",
       "      <th>1</th>\n",
       "      <td>Starbucks</td>\n",
       "      <td>Y</td>\n",
       "      <td>All</td>\n",
       "      <td>Sandwhich</td>\n",
       "    </tr>\n",
       "    <tr>\n",
       "      <th>2</th>\n",
       "      <td>Wendy's</td>\n",
       "      <td>Y</td>\n",
       "      <td>All</td>\n",
       "      <td>Fast Food</td>\n",
       "    </tr>\n",
       "    <tr>\n",
       "      <th>3</th>\n",
       "      <td>Burger King</td>\n",
       "      <td>Y</td>\n",
       "      <td>All</td>\n",
       "      <td>Fast Food</td>\n",
       "    </tr>\n",
       "    <tr>\n",
       "      <th>4</th>\n",
       "      <td>Taco Bell</td>\n",
       "      <td>Y</td>\n",
       "      <td>All</td>\n",
       "      <td>Fast Food</td>\n",
       "    </tr>\n",
       "  </tbody>\n",
       "</table>\n",
       "</div>"
      ],
      "text/plain": [
       "          Name Breakfast Location       Type\n",
       "0    McDonalds         Y      All  Fast Food\n",
       "1    Starbucks         Y      All  Sandwhich\n",
       "2      Wendy's         Y      All  Fast Food\n",
       "3  Burger King         Y      All  Fast Food\n",
       "4    Taco Bell         Y      All  Fast Food"
      ]
     },
     "execution_count": 59,
     "metadata": {},
     "output_type": "execute_result"
    }
   ],
   "source": [
    "data2 = pd.read_csv('data2ndhalf.csv')\n",
    "data2.head()"
   ]
  },
  {
   "cell_type": "code",
   "execution_count": 20,
   "metadata": {},
   "outputs": [
    {
     "name": "stdout",
     "output_type": "stream",
     "text": [
      "42\n"
     ]
    }
   ],
   "source": [
    "print(len(data2))"
   ]
  },
  {
   "cell_type": "code",
   "execution_count": 60,
   "metadata": {},
   "outputs": [
    {
     "data": {
      "text/html": [
       "<div>\n",
       "<style scoped>\n",
       "    .dataframe tbody tr th:only-of-type {\n",
       "        vertical-align: middle;\n",
       "    }\n",
       "\n",
       "    .dataframe tbody tr th {\n",
       "        vertical-align: top;\n",
       "    }\n",
       "\n",
       "    .dataframe thead th {\n",
       "        text-align: right;\n",
       "    }\n",
       "</style>\n",
       "<table border=\"1\" class=\"dataframe\">\n",
       "  <thead>\n",
       "    <tr style=\"text-align: right;\">\n",
       "      <th></th>\n",
       "      <th>Name</th>\n",
       "      <th>sales2016</th>\n",
       "      <th>FranchiseUnits2016</th>\n",
       "      <th>CompanyUnits2016</th>\n",
       "      <th>TotalUnits2016</th>\n",
       "      <th>Breakfast</th>\n",
       "      <th>Location</th>\n",
       "      <th>Type</th>\n",
       "    </tr>\n",
       "  </thead>\n",
       "  <tbody>\n",
       "    <tr>\n",
       "      <th>0</th>\n",
       "      <td>McDonalds</td>\n",
       "      <td>36389.00</td>\n",
       "      <td>13046</td>\n",
       "      <td>1109</td>\n",
       "      <td>14155</td>\n",
       "      <td>Y</td>\n",
       "      <td>All</td>\n",
       "      <td>Fast Food</td>\n",
       "    </tr>\n",
       "    <tr>\n",
       "      <th>1</th>\n",
       "      <td>Starbucks</td>\n",
       "      <td>14795.40</td>\n",
       "      <td>5292</td>\n",
       "      <td>7880</td>\n",
       "      <td>13172</td>\n",
       "      <td>Y</td>\n",
       "      <td>All</td>\n",
       "      <td>Sandwhich</td>\n",
       "    </tr>\n",
       "    <tr>\n",
       "      <th>2</th>\n",
       "      <td>Wendy's</td>\n",
       "      <td>9510.00</td>\n",
       "      <td>6207</td>\n",
       "      <td>330</td>\n",
       "      <td>6537</td>\n",
       "      <td>Y</td>\n",
       "      <td>All</td>\n",
       "      <td>Fast Food</td>\n",
       "    </tr>\n",
       "    <tr>\n",
       "      <th>3</th>\n",
       "      <td>Burger King</td>\n",
       "      <td>9749.19</td>\n",
       "      <td>7111</td>\n",
       "      <td>50</td>\n",
       "      <td>7161</td>\n",
       "      <td>Y</td>\n",
       "      <td>All</td>\n",
       "      <td>Fast Food</td>\n",
       "    </tr>\n",
       "    <tr>\n",
       "      <th>4</th>\n",
       "      <td>Taco Bell</td>\n",
       "      <td>9535.80</td>\n",
       "      <td>5399</td>\n",
       "      <td>879</td>\n",
       "      <td>6278</td>\n",
       "      <td>Y</td>\n",
       "      <td>All</td>\n",
       "      <td>Fast Food</td>\n",
       "    </tr>\n",
       "  </tbody>\n",
       "</table>\n",
       "</div>"
      ],
      "text/plain": [
       "          Name  sales2016  FranchiseUnits2016  CompanyUnits2016  \\\n",
       "0    McDonalds   36389.00               13046              1109   \n",
       "1    Starbucks   14795.40                5292              7880   \n",
       "2      Wendy's    9510.00                6207               330   \n",
       "3  Burger King    9749.19                7111                50   \n",
       "4    Taco Bell    9535.80                5399               879   \n",
       "\n",
       "   TotalUnits2016 Breakfast Location       Type  \n",
       "0           14155         Y      All  Fast Food  \n",
       "1           13172         Y      All  Sandwhich  \n",
       "2            6537         Y      All  Fast Food  \n",
       "3            7161         Y      All  Fast Food  \n",
       "4            6278         Y      All  Fast Food  "
      ]
     },
     "execution_count": 60,
     "metadata": {},
     "output_type": "execute_result"
    }
   ],
   "source": [
    "final = pd.merge(data1, data2, on='Name')\n",
    "final.head()"
   ]
  },
  {
   "cell_type": "markdown",
   "metadata": {},
   "source": [
    "**Question 1:** \n",
    "What type of chain restuarant returns the most total units?"
   ]
  },
  {
   "cell_type": "code",
   "execution_count": 68,
   "metadata": {},
   "outputs": [
    {
     "name": "stdout",
     "output_type": "stream",
     "text": [
      "Location\n",
      "All     3445.680000\n",
      "East    1604.636364\n",
      "West    1908.666667\n",
      "Name: TotalUnits2016, dtype: float64\n",
      "\n",
      "The groups are All and East and West\n",
      "This is a test of equal means with Ho: The means of all groups are equal/Ha: At least one group mean is different\n",
      "The F test statistic is 1.379 and the p-value is 0.2649\n",
      "Conclusion: Fail to Reject Ho: We can't reject that the means are the same\n"
     ]
    },
    {
     "data": {
      "image/png": "[encoded data removed]",
      "text/plain": [
       "<Figure size 432x288 with 1 Axes>"
      ]
     },
     "metadata": {
      "needs_background": "light"
     },
     "output_type": "display_data"
    },
    {
     "name": "stdout",
     "output_type": "stream",
     "text": [
      "Ho: The group means are equal\n",
      "    Multiple Comparison of Means - Tukey HSD, FWER=0.05    \n",
      "===========================================================\n",
      "group1 group2  meandiff  p-adj    lower      upper   reject\n",
      "-----------------------------------------------------------\n",
      "   All   East -1841.0436 0.2666 -4685.0697 1002.9825  False\n",
      "   All   West -1537.0133 0.7015 -6339.8416  3265.815  False\n",
      "  East   West   304.0303    0.9 -4815.8018 5423.8625  False\n",
      "-----------------------------------------------------------\n"
     ]
    },
    {
     "name": "stderr",
     "output_type": "stream",
     "text": [
      "/Users/cervavi/opt/anaconda3/lib/python3.8/site-packages/statsmodels/sandbox/stats/multicomp.py:775: UserWarning: FixedFormatter should only be used together with FixedLocator\n",
      "  ax1.set_yticklabels(np.insert(self.groupsunique.astype(str), 0, ''))\n"
     ]
    },
    {
     "data": {
      "image/png": "[encoded data removed]",
      "text/plain": [
       "<Figure size 720x432 with 1 Axes>"
      ]
     },
     "metadata": {
      "needs_background": "light"
     },
     "output_type": "display_data"
    }
   ],
   "source": [
    "def Q1():\n",
    "    print(final['TotalUnits2016'].groupby(final['Location']).mean())\n",
    "    print()\n",
    "    st.MeansTest(final, 'Location', 'TotalUnits2016')\n",
    "Q1()"
   ]
  },
  {
   "cell_type": "markdown",
   "metadata": {},
   "source": [
    "**Conclusion:** \n",
    "According to the ANOVA Test, the grooup means are equal given the difference between them is not statistically significant. However, chain restaurants located all over the U.S. or only in the eastern region contain outliers that may have skewed the data. "
   ]
  },
  {
   "cell_type": "markdown",
   "metadata": {},
   "source": [
    "**Question 2:** \n",
    "On average, which general location has the largest total units from chain restaurants?"
   ]
  },
  {
   "cell_type": "code",
   "execution_count": 70,
   "metadata": {},
   "outputs": [
    {
     "name": "stdout",
     "output_type": "stream",
     "text": [
      "Breakfast\n",
      "N    1860.62069\n",
      "Y    5556.10000\n",
      "Name: TotalUnits2016, dtype: float64\n",
      "\n",
      "The groups are Y and N\n",
      "\n",
      "This is a test of equal variances with Ho: The variances are equal\n",
      "The t test statistic is 17.797 and the p-value is 0.0\n",
      "Conclusion: Reject Ho: The variances are not equal\n",
      "\n",
      "This is a Welch (unequal variances) Two-Sample t test of equal means with Ho: The group means are equal\n",
      "The t test statistic is 2.331 and the p-value is 0.0425\n",
      "Conclusion: Reject Ho: The means are not equal\n"
     ]
    },
    {
     "data": {
      "image/png": "[encoded data removed]",
      "text/plain": [
       "<Figure size 432x288 with 1 Axes>"
      ]
     },
     "metadata": {
      "needs_background": "light"
     },
     "output_type": "display_data"
    }
   ],
   "source": [
    "def Q2():\n",
    "    print(final['TotalUnits2016'].groupby(final['Breakfast']).mean())\n",
    "    print()\n",
    "    st.MeansTest(final, 'Breakfast', 'TotalUnits2016')\n",
    "Q2()"
   ]
  },
  {
   "cell_type": "markdown",
   "metadata": {},
   "source": [
    "**Conclusion:** \n",
    "According to the Two Sample-Test, the means of 2016 sales from chain restaurants that serve breakfast options are not equal (Yes: 9809.7, No: 1917.5). In other words, chain restaurants that serve breakfast options are more likely to have more total units than chain restaurants that don't. "
   ]
  },
  {
   "cell_type": "markdown",
   "metadata": {},
   "source": [
    "**Question 3:** \n",
    "Which type of restaurant has the largest mean of total units?"
   ]
  },
  {
   "cell_type": "code",
   "execution_count": 74,
   "metadata": {},
   "outputs": [
    {
     "name": "stdout",
     "output_type": "stream",
     "text": [
      "Type\n",
      "Casual Dining    1819.933333\n",
      "Dessert          1896.666667\n",
      "Fast Food        3855.733333\n",
      "Sandwhich        3115.666667\n",
      "Name: TotalUnits2016, dtype: float64\n",
      "\n",
      "The groups are Fast Food and Sandwhich and Casual Dining and Dessert\n",
      "This is a test of equal means with Ho: The means of all groups are equal/Ha: At least one group mean is different\n",
      "The F test statistic is 1.087 and the p-value is 0.3674\n",
      "Conclusion: Fail to Reject Ho: We can't reject that the means are the same\n"
     ]
    },
    {
     "data": {
      "image/png": "[encoded data removed]",
      "text/plain": [
       "<Figure size 432x288 with 1 Axes>"
      ]
     },
     "metadata": {
      "needs_background": "light"
     },
     "output_type": "display_data"
    },
    {
     "name": "stdout",
     "output_type": "stream",
     "text": [
      "Ho: The group means are equal\n",
      "        Multiple Comparison of Means - Tukey HSD, FWER=0.05         \n",
      "====================================================================\n",
      "    group1      group2   meandiff p-adj    lower      upper   reject\n",
      "--------------------------------------------------------------------\n",
      "Casual Dining   Dessert   76.7333    0.9 -5444.5826 5598.0493  False\n",
      "Casual Dining Fast Food    2035.8 0.3278 -1151.9333 5223.5333  False\n",
      "Casual Dining Sandwhich 1295.7333 0.8224 -2921.2414 5512.7081  False\n",
      "      Dessert Fast Food 1959.0667 0.7516 -3562.2493 7480.3826  False\n",
      "      Dessert Sandwhich    1219.0    0.9 -4954.0189 7392.0189  False\n",
      "    Fast Food Sandwhich -740.0667    0.9 -4957.0414 3476.9081  False\n",
      "--------------------------------------------------------------------\n"
     ]
    },
    {
     "name": "stderr",
     "output_type": "stream",
     "text": [
      "/Users/cervavi/opt/anaconda3/lib/python3.8/site-packages/statsmodels/sandbox/stats/multicomp.py:775: UserWarning: FixedFormatter should only be used together with FixedLocator\n",
      "  ax1.set_yticklabels(np.insert(self.groupsunique.astype(str), 0, ''))\n"
     ]
    },
    {
     "data": {
      "image/png": "[encoded data removed]",
      "text/plain": [
       "<Figure size 720x432 with 1 Axes>"
      ]
     },
     "metadata": {
      "needs_background": "light"
     },
     "output_type": "display_data"
    }
   ],
   "source": [
    "def Q3():\n",
    "    print(final['TotalUnits2016'].groupby(final['Type']).mean())\n",
    "    print()\n",
    "    st.MeansTest(final, 'Type', 'TotalUnits2016')\n",
    "Q3()"
   ]
  },
  {
   "cell_type": "markdown",
   "metadata": {},
   "source": [
    "**Conclusion:** According to the ANOVA Test, the group means are equal given the difference between them is not statistically significant. However, Fast Food, Sandwhich and Casual Dining all have outliers to them which could've have skewed the results. Additionally, the values for Fast Food appear to be more spread out in comparison to the other types which have a more concentrated spread. "
   ]
  },
  {
   "cell_type": "markdown",
   "metadata": {},
   "source": [
    "### **Overall Conclusion:**\n",
    "##### From the hypothesis tests, 2/3 the conclusion fail to reject the null hypothesis. The test that concluded to reject the null examined the total units of chain restaurants from 2016 based on whether breakfast options were offered. The two test that accepted the null examined the total units of the chain restaurants based on location and type, respectively. As a result, Breakfast options is not an indicator or significant enough to consider the average number of restaurant chains; however, location and type are for this data set. "
   ]
  },
  {
   "cell_type": "markdown",
   "metadata": {},
   "source": [
    "### **Menu:**"
   ]
  },
  {
   "cell_type": "code",
   "execution_count": 147,
   "metadata": {},
   "outputs": [
    {
     "name": "stdout",
     "output_type": "stream",
     "text": [
      "\n",
      "MENU\n",
      "1. Answer Question 1: What type of chains return the most sales?\n",
      "2. Answer Question 2: On average, which general location has the largest return of sales?\n",
      "3. Answer Question 3: Which type of restaurant has the largest mean of total units?\n",
      "4. Output a T-Test\n",
      "5. Output a Bar Graph\n",
      "6. Output to Excel\n",
      "7. Output Regression Model\n",
      "8. Quit\n"
     ]
    },
    {
     "name": "stdin",
     "output_type": "stream",
     "text": [
      "Enter your choice: 8\n"
     ]
    }
   ],
   "source": [
    "def menu(final):\n",
    "    quit = False \n",
    "    while quit == False:\n",
    "        print(\"\\nMENU\")\n",
    "        print(\"1. Answer Question 1: What type of chains return the most sales?\")\n",
    "        print(\"2. Answer Question 2: On average, which general location has the largest return of sales?\")\n",
    "        print(\"3. Answer Question 3: Which type of restaurant has the largest mean of total units?\")\n",
    "        print(\"4. Output a T-Test\")\n",
    "        print(\"5. Output a Bar Graph\")\n",
    "        print(\"6. Output to Excel\")\n",
    "        print(\"7. Output Regression Model\")\n",
    "        print(\"8. Quit\")\n",
    "        menu_choice = int(input(\"Enter your choice:\"))\n",
    "        if menu_choice not in [1, 2, 3, 4, 5, 6, 7, 8]:\n",
    "            print(\"Please enter a number.\")\n",
    "        else:\n",
    "            if menu_choice == 1:\n",
    "                print(\"\\nAnswer Question 1: What type of chains return the most sales?\")\n",
    "                print(Q1())\n",
    "            if menu_choice == 2:\n",
    "                print(\"\\nAnswer Question 2: On average, which general location has the largest return of sales?\")\n",
    "                print(Q2())\n",
    "            if menu_choice == 3:\n",
    "                print(\"\\nAnswer Question 3: Which type of restaurant has the largest mean of total units?\")\n",
    "                print(Q3())\n",
    "            if menu_choice == 4:\n",
    "                print(\"\\nT-Test\")\n",
    "                print(\"\\nThis is a T-Test of your choice variable grouped by Breakfast\")\n",
    "                print(\"\\nColumns:\")\n",
    "                print(final.dtypes == np.int64)\n",
    "                bc = input(\"Choose a column name that is True: \")\n",
    "                print(final[bc].groupby(final['Breakfast']).mean())\n",
    "                print()\n",
    "                st.MeansTest(final, 'Breakfast', bc)\n",
    "            if menu_choice == 5:\n",
    "                print(\"\\nBar Graph\")\n",
    "                print(\"\\nColumns:\")\n",
    "                print(final.dtypes)\n",
    "                bx = input(\"Enter a listed column that is an object as the x variable: \")\n",
    "                by = input(\"Enter a listed column that is a float64 or int64 as the y variable: \")\n",
    "                plt.bar(final[bx], final[by])\n",
    "                plt.title(f\"{by} by {bx}\")\n",
    "                plt.xlabel(bx)\n",
    "                plt.ylabel(by)\n",
    "                plt.show()\n",
    "            if menu_choice == 6:\n",
    "                print(\"\\nOutputs columns: Name, sales2016, Breakfast, Location, and Type to Excel File ResData\")\n",
    "                final.to_excel(r'ResData.xlsx', sheet_name = 'DataPart', columns = ['Name', 'sales2016', 'Breakfast', 'Location', 'Type'])\n",
    "            if menu_choice == 7:\n",
    "                print(\"\\nRegressioon Model: \")\n",
    "                print(\"\\nColumns:\")\n",
    "                print(final.dtypes)\n",
    "                print(\"\\nChoose 2 Columns\")\n",
    "                c1 = input(\"Choose a column listed that is an int64 or float64 as the x variable\")\n",
    "                c2 = input(\"Choose a column listed that is an int64 or float64 as the y variable\")\n",
    "                xv = final[c1]\n",
    "                yv = final[c2]\n",
    "                model = ols(\"yv ~ xv\", data=final).fit()\n",
    "                print(model.summary())\n",
    "            if menu_choice == 8:\n",
    "                quit = True\n",
    "menu(final)"
   ]
  }
 ],
 "metadata": {
  "kernelspec": {
   "display_name": "Python 3",
   "language": "python",
   "name": "python3"
  },
  "language_info": {
   "codemirror_mode": {
    "name": "ipython",
    "version": 3
   },
   "file_extension": ".py",
   "mimetype": "text/x-python",
   "name": "python",
   "nbconvert_exporter": "python",
   "pygments_lexer": "ipython3",
   "version": "3.8.5"
  }
 },
 "nbformat": 4,
 "nbformat_minor": 4
}
